{
  "nbformat": 4,
  "nbformat_minor": 0,
  "metadata": {
    "colab": {
      "provenance": [],
      "collapsed_sections": [
        "O5r-kd_65DJ-",
        "TLkAFORz5PTq",
        "z40KD94GaGYR",
        "IT-K0gcgCV-u",
        "RxnqC9fvdpKV",
        "ybrMlG4_CELE",
        "85nYbqK4O_Vl",
        "jPkrno6yB8uB"
      ]
    },
    "kernelspec": {
      "name": "python3",
      "display_name": "Python 3"
    },
    "language_info": {
      "name": "python"
    }
  },
  "cells": [
    {
      "cell_type": "markdown",
      "source": [
        "---\n",
        "The notebook is available on [my](https://github.com/ccooper1982/uni-comp11127/tree/main/Lab%202) GitHub:\n",
        "\n",
        "https://github.com/ccooper1982/uni-comp11127/tree/main/Lab%202\n",
        "---"
      ],
      "metadata": {
        "id": "MVyrXZtrk-Os"
      }
    },
    {
      "cell_type": "markdown",
      "source": [
        "# Activity A"
      ],
      "metadata": {
        "id": "O5r-kd_65DJ-"
      }
    },
    {
      "cell_type": "markdown",
      "source": [
        "## 2D Array\n",
        "\n"
      ],
      "metadata": {
        "id": "TLkAFORz5PTq"
      }
    },
    {
      "cell_type": "code",
      "source": [
        "import numpy as np\n",
        "\n",
        "# create 2-D array of 3x6 with max value of 25\n",
        "nCols = 6\n",
        "\n",
        "np.random.seed(105)\n",
        "arr_2d = np.random.randint(25, size=(3, nCols))\n",
        "print(f\"Original:\\n{arr_2d}\")\n",
        "\n",
        "# copy the original array before we update values\n",
        "arr_2d_copy = np.copy(arr_2d)\n",
        "\n",
        "# 1. first row, 6th column\n",
        "arr_2d_copy[0,5] = 15\n",
        "print(f\"1:\\n{arr_2d_copy}\")\n",
        "\n",
        "\n",
        "# 2. replace 2nd row with a new random array (1 row, 6 cols)\n",
        "arr_2d_copy[1] = np.random.randint(5, size=(1, nCols))\n",
        "print(f\"2:\\n{arr_2d_copy}\")\n",
        "\n",
        "\n",
        "# 3. update middle two values of the 3rd using slicing notation.\n",
        "arr_2d_copy[2][2:4] = 1\n",
        "print(f\"3:\\n{arr_2d_copy}\")"
      ],
      "metadata": {
        "colab": {
          "base_uri": "https://localhost:8080/",
          "height": 0
        },
        "collapsed": true,
        "id": "wm8eoc3C5aVa",
        "outputId": "b28403af-367d-40f2-a88d-caf6b9f94a03"
      },
      "execution_count": 1,
      "outputs": [
        {
          "output_type": "stream",
          "name": "stdout",
          "text": [
            "Original:\n",
            "[[ 0 21 22  9  4  0]\n",
            " [ 0  4 16  4 13  1]\n",
            " [ 6 15  9 15 19 20]]\n",
            "1:\n",
            "[[ 0 21 22  9  4 15]\n",
            " [ 0  4 16  4 13  1]\n",
            " [ 6 15  9 15 19 20]]\n",
            "2:\n",
            "[[ 0 21 22  9  4 15]\n",
            " [ 4  1  4  2  2  4]\n",
            " [ 6 15  9 15 19 20]]\n",
            "3:\n",
            "[[ 0 21 22  9  4 15]\n",
            " [ 4  1  4  2  2  4]\n",
            " [ 6 15  1  1 19 20]]\n"
          ]
        }
      ]
    },
    {
      "cell_type": "markdown",
      "source": [
        "The numpy developers consider comparing two arrays that have more than one element ambigious:\n",
        "\n",
        "- Are they equal if any elements are the same\n",
        "- Are they equal *only if* all elements the same value\n",
        "\n",
        "So the `logical_and()` is used to perform an logical AND on each element:\n",
        "\n",
        "```\n",
        "arr1[n] && arr2[n]\n",
        "```\n",
        "\n",
        "then call `all()` to confirm all elements are `True`.\n",
        "\n",
        "\n"
      ],
      "metadata": {
        "id": "jrhtlDcCD_aw"
      }
    },
    {
      "cell_type": "code",
      "source": [
        "# 4. as (3) but re-instate original values by copying from the original array\n",
        "arr_2d_copy[2][2:4] = arr_2d[2][2:4]\n",
        "print(f\"{arr_2d_copy}\")\n",
        "assert np.logical_and(arr_2d_copy[2], arr_2d[2]).all(), \"Step 4\""
      ],
      "metadata": {
        "colab": {
          "base_uri": "https://localhost:8080/",
          "height": 0
        },
        "collapsed": true,
        "id": "Uyw8IFjzBieM",
        "outputId": "dab1502f-7748-4005-8b5e-057bbbff3e30"
      },
      "execution_count": 2,
      "outputs": [
        {
          "output_type": "stream",
          "name": "stdout",
          "text": [
            "[[ 0 21 22  9  4 15]\n",
            " [ 4  1  4  2  2  4]\n",
            " [ 6 15  9 15 19 20]]\n"
          ]
        }
      ]
    },
    {
      "cell_type": "markdown",
      "source": [
        "## 3D Array"
      ],
      "metadata": {
        "id": "z40KD94GaGYR"
      }
    },
    {
      "cell_type": "markdown",
      "source": [
        "Seed the random generator, create a 3x5x5 array and copy the array."
      ],
      "metadata": {
        "id": "zKYyIfS24ocj"
      }
    },
    {
      "cell_type": "code",
      "source": [
        "np.random.seed(9)\n",
        "\n",
        "arr_3d = np.random.randint(25, size=(3,5,5))\n",
        "print(f\"Original\\n{arr_3d}\")\n",
        "\n",
        "arr_3d_copy = np.copy(arr_3d)"
      ],
      "metadata": {
        "id": "-WGPE-F8aMA6",
        "colab": {
          "base_uri": "https://localhost:8080/",
          "height": 0
        },
        "outputId": "6ca22744-6697-4d89-da46-cd6d7fe76804",
        "collapsed": true
      },
      "execution_count": 8,
      "outputs": [
        {
          "output_type": "stream",
          "name": "stdout",
          "text": [
            "Original\n",
            "[[[21 22 24 22  1]\n",
            "  [22 20  8 17 24]\n",
            "  [21  1  0 14 24]\n",
            "  [10 24 10 24 12]\n",
            "  [18 22 24  1 24]]\n",
            "\n",
            " [[ 3 11  5 19  6]\n",
            "  [23  9 16 24 17]\n",
            "  [ 8 13  1 13 12]\n",
            "  [22 22 18  8  4]\n",
            "  [21  3 20  0 10]]\n",
            "\n",
            " [[24 16  4 15  5]\n",
            "  [20 24 19  8  4]\n",
            "  [ 8  0  1  2 13]\n",
            "  [12 19 13  7 23]\n",
            "  [18 15 16 20 14]]]\n"
          ]
        }
      ]
    },
    {
      "cell_type": "markdown",
      "source": [
        "Manually set values to `66` from top-left to bottom-right"
      ],
      "metadata": {
        "id": "W2-wUOwz43sh"
      }
    },
    {
      "cell_type": "code",
      "source": [
        "arr_3d_copy[0][0][0] = 66\n",
        "arr_3d_copy[0][1][1] = 66\n",
        "arr_3d_copy[0][2][2] = 66\n",
        "arr_3d_copy[0][3][3] = 66\n",
        "arr_3d_copy[0][4][4] = 66\n",
        "print(f\"1.\\n{arr_3d_copy}\")"
      ],
      "metadata": {
        "id": "mKfvqfbQ42iA",
        "colab": {
          "base_uri": "https://localhost:8080/",
          "height": 0
        },
        "outputId": "53c88cbd-bcb8-4a71-92ab-a6c7f21fa781",
        "collapsed": true
      },
      "execution_count": 9,
      "outputs": [
        {
          "output_type": "stream",
          "name": "stdout",
          "text": [
            "1.\n",
            "[[[66 22 24 22  1]\n",
            "  [22 66  8 17 24]\n",
            "  [21  1 66 14 24]\n",
            "  [10 24 10 66 12]\n",
            "  [18 22 24  1 66]]\n",
            "\n",
            " [[ 3 11  5 19  6]\n",
            "  [23  9 16 24 17]\n",
            "  [ 8 13  1 13 12]\n",
            "  [22 22 18  8  4]\n",
            "  [21  3 20  0 10]]\n",
            "\n",
            " [[24 16  4 15  5]\n",
            "  [20 24 19  8  4]\n",
            "  [ 8  0  1  2 13]\n",
            "  [12 19 13  7 23]\n",
            "  [18 15 16 20 14]]]\n"
          ]
        }
      ]
    },
    {
      "cell_type": "markdown",
      "source": [
        "Avoid hard coded indices by getting rows and columns from `shape`. This time set the `66` from bottom-left to top-right using a loop.\n",
        "\n",
        "The loop uses `reversed()`, which could be replaced with:\n",
        "\n",
        "```\n",
        "range (nRows-1, -1, -1)\n",
        "```\n",
        "\n",
        "but I find `reversed()` more readable."
      ],
      "metadata": {
        "id": "n9P3adYi5Fp1"
      }
    },
    {
      "cell_type": "code",
      "source": [
        "nRows = arr_3d_copy.shape[1]\n",
        "nCols = arr_3d_copy.shape[2]\n",
        "\n",
        "i = 0\n",
        "for row in reversed(range(0, nRows)):\n",
        "  arr_3d_copy[0][row][i] = 66\n",
        "  i += 1\n",
        "\n",
        "print(f\"2.\\n{arr_3d_copy}\")"
      ],
      "metadata": {
        "id": "GhtV8Fqupwxi",
        "colab": {
          "base_uri": "https://localhost:8080/",
          "height": 0
        },
        "outputId": "f1b68cbc-cbec-4f3f-cf95-bd155dbe5d72",
        "collapsed": true
      },
      "execution_count": 10,
      "outputs": [
        {
          "output_type": "stream",
          "name": "stdout",
          "text": [
            "2.\n",
            "[[[66 22 24 22 66]\n",
            "  [22 66  8 66 24]\n",
            "  [21  1 66 14 24]\n",
            "  [10 66 10 66 12]\n",
            "  [66 22 24  1 66]]\n",
            "\n",
            " [[ 3 11  5 19  6]\n",
            "  [23  9 16 24 17]\n",
            "  [ 8 13  1 13 12]\n",
            "  [22 22 18  8  4]\n",
            "  [21  3 20  0 10]]\n",
            "\n",
            " [[24 16  4 15  5]\n",
            "  [20 24 19  8  4]\n",
            "  [ 8  0  1  2 13]\n",
            "  [12 19 13  7 23]\n",
            "  [18 15 16 20 14]]]\n"
          ]
        }
      ]
    },
    {
      "cell_type": "markdown",
      "source": [
        "This time use slicing."
      ],
      "metadata": {
        "id": "IXtPI-rv7IGa"
      }
    },
    {
      "cell_type": "code",
      "source": [
        "i = 0\n",
        "for row in range(0, nRows):\n",
        "  arr_3d_copy[1][row, i:i+1] = 66\n",
        "  i += 1\n",
        "\n",
        "print(f\"3.\\n{arr_3d_copy}\")"
      ],
      "metadata": {
        "id": "tH6xtCr74cWI",
        "colab": {
          "base_uri": "https://localhost:8080/",
          "height": 0
        },
        "outputId": "6d8f479a-8177-442e-e88e-2232a0088a18",
        "collapsed": true
      },
      "execution_count": 11,
      "outputs": [
        {
          "output_type": "stream",
          "name": "stdout",
          "text": [
            "3.\n",
            "[[[66 22 24 22 66]\n",
            "  [22 66  8 66 24]\n",
            "  [21  1 66 14 24]\n",
            "  [10 66 10 66 12]\n",
            "  [66 22 24  1 66]]\n",
            "\n",
            " [[66 11  5 19  6]\n",
            "  [23 66 16 24 17]\n",
            "  [ 8 13 66 13 12]\n",
            "  [22 22 18 66  4]\n",
            "  [21  3 20  0 66]]\n",
            "\n",
            " [[24 16  4 15  5]\n",
            "  [20 24 19  8  4]\n",
            "  [ 8  0  1  2 13]\n",
            "  [12 19 13  7 23]\n",
            "  [18 15 16 20 14]]]\n"
          ]
        }
      ]
    },
    {
      "cell_type": "markdown",
      "source": [
        "This time do top-left to bottom-right and bottom-left to top-right in same loop."
      ],
      "metadata": {
        "id": "V0b6DbUC7WxX"
      }
    },
    {
      "cell_type": "code",
      "source": [
        "i = 0\n",
        "for row in range(0, nRows):\n",
        "  arr_3d_copy[2][row, i:i+1] = 66\n",
        "  arr_3d_copy[2][nRows-row-1, i:i+1] = 66\n",
        "  i += 1\n",
        "\n",
        "print(f\"4.\\n{arr_3d_copy}\")"
      ],
      "metadata": {
        "id": "xhcPf2JJ4hCp",
        "colab": {
          "base_uri": "https://localhost:8080/",
          "height": 0
        },
        "outputId": "8916cd02-4d63-425c-c618-508103eb4e08",
        "collapsed": true
      },
      "execution_count": 12,
      "outputs": [
        {
          "output_type": "stream",
          "name": "stdout",
          "text": [
            "4.\n",
            "[[[66 22 24 22 66]\n",
            "  [22 66  8 66 24]\n",
            "  [21  1 66 14 24]\n",
            "  [10 66 10 66 12]\n",
            "  [66 22 24  1 66]]\n",
            "\n",
            " [[66 11  5 19  6]\n",
            "  [23 66 16 24 17]\n",
            "  [ 8 13 66 13 12]\n",
            "  [22 22 18 66  4]\n",
            "  [21  3 20  0 66]]\n",
            "\n",
            " [[66 16  4 15 66]\n",
            "  [20 66 19 66  4]\n",
            "  [ 8  0 66  2 13]\n",
            "  [12 66 13 66 23]\n",
            "  [66 15 16 20 66]]]\n"
          ]
        }
      ]
    },
    {
      "cell_type": "markdown",
      "source": [
        "# Activity B\n",
        "The [dataset](https://archive.ics.uci.edu/dataset/94/spambase) is \"Spambase\" which classifies emails as spam/not spam based on 57 features.\n",
        "\n",
        "It is available on the UCI Machine Learning Repository:\n",
        "\n",
        "https://archive.ics.uci.edu/dataset/94/spambase"
      ],
      "metadata": {
        "id": "rGYzSTen76hF"
      }
    },
    {
      "cell_type": "markdown",
      "source": [
        "## Get Data Set"
      ],
      "metadata": {
        "id": "IT-K0gcgCV-u"
      }
    },
    {
      "cell_type": "markdown",
      "source": [
        "\n",
        "---\n",
        "> I originally used `google.colab.files` package to show an upload prompt, then called Panda's `read_csv()`. But I discovered the `ucimlrepo` package to fetch the dataset directly.\n",
        "---\n",
        "\n",
        "On Google CoLab the package can be installed with:"
      ],
      "metadata": {
        "id": "V_cNXBB2ClDV"
      }
    },
    {
      "cell_type": "code",
      "source": [
        "%pip install ucimlrepo"
      ],
      "metadata": {
        "colab": {
          "base_uri": "https://localhost:8080/",
          "height": 0
        },
        "id": "yPBVQF2XuHY-",
        "outputId": "48a62a63-7f20-45ab-a9b7-3b3c0c94d1af",
        "collapsed": true
      },
      "execution_count": 13,
      "outputs": [
        {
          "output_type": "stream",
          "name": "stdout",
          "text": [
            "Collecting ucimlrepo\n",
            "  Downloading ucimlrepo-0.0.7-py3-none-any.whl.metadata (5.5 kB)\n",
            "Requirement already satisfied: pandas>=1.0.0 in /usr/local/lib/python3.10/dist-packages (from ucimlrepo) (2.2.2)\n",
            "Requirement already satisfied: certifi>=2020.12.5 in /usr/local/lib/python3.10/dist-packages (from ucimlrepo) (2024.8.30)\n",
            "Requirement already satisfied: numpy>=1.22.4 in /usr/local/lib/python3.10/dist-packages (from pandas>=1.0.0->ucimlrepo) (1.26.4)\n",
            "Requirement already satisfied: python-dateutil>=2.8.2 in /usr/local/lib/python3.10/dist-packages (from pandas>=1.0.0->ucimlrepo) (2.8.2)\n",
            "Requirement already satisfied: pytz>=2020.1 in /usr/local/lib/python3.10/dist-packages (from pandas>=1.0.0->ucimlrepo) (2024.2)\n",
            "Requirement already satisfied: tzdata>=2022.7 in /usr/local/lib/python3.10/dist-packages (from pandas>=1.0.0->ucimlrepo) (2024.2)\n",
            "Requirement already satisfied: six>=1.5 in /usr/local/lib/python3.10/dist-packages (from python-dateutil>=2.8.2->pandas>=1.0.0->ucimlrepo) (1.16.0)\n",
            "Downloading ucimlrepo-0.0.7-py3-none-any.whl (8.0 kB)\n",
            "Installing collected packages: ucimlrepo\n",
            "Successfully installed ucimlrepo-0.0.7\n"
          ]
        }
      ]
    },
    {
      "cell_type": "markdown",
      "source": [
        "## Use The Dataset"
      ],
      "metadata": {
        "id": "RxnqC9fvdpKV"
      }
    },
    {
      "cell_type": "markdown",
      "source": [
        "---\n",
        "> There are 4601 rows and 57 features (columns) in this dataset. To avoid ugly  output when printing 10% rows with 57 columns, I have limited the rows to 10,  rather than 10%, and columns to 6.\n",
        "---"
      ],
      "metadata": {
        "id": "WkOSie5yQNRr"
      }
    },
    {
      "cell_type": "markdown",
      "source": [
        "Documentation for the UCI ML package is found [here](https://github.com/uci-ml-repo/ucimlrepo) but the basics are:\n",
        "\n",
        "- Use `fetch_ucirepo()` to download the dataset\n",
        "- This returns a `dotdict` which is similar to a `dict` but it provides access to keys as attributes\n",
        "\n",
        "The important attributes are in the top level `data`:\n",
        "\n",
        "- `original` : Dataframe consisting of all IDs, features and targets (including the NumPy array)\n",
        "- `headers` : List of all variable names/headers"
      ],
      "metadata": {
        "id": "62FgIVILcn4w"
      }
    },
    {
      "cell_type": "markdown",
      "source": [
        "## Task A"
      ],
      "metadata": {
        "id": "ybrMlG4_CELE"
      }
    },
    {
      "cell_type": "code",
      "source": [
        "import pandas as pd\n",
        "import numpy as np\n",
        "from ucimlrepo import fetch_ucirepo\n",
        "\n",
        "# dataset: a dotdict with original, features, targets, originals amongst others\n",
        "# each of those is a Panda dataframe.\n",
        "# details: https://github.com/uci-ml-repo/ucimlrepo\n",
        "dataset = fetch_ucirepo(id=94)"
      ],
      "metadata": {
        "id": "JCfH7-vepNEl",
        "collapsed": true
      },
      "execution_count": 14,
      "outputs": []
    },
    {
      "cell_type": "markdown",
      "source": [
        "## Task B"
      ],
      "metadata": {
        "id": "85nYbqK4O_Vl"
      }
    },
    {
      "cell_type": "code",
      "source": [
        "# data frame\n",
        "dataframe = dataset.data.original\n",
        "\n",
        "# for 10% rows: nMaxRows = len(dataframe.values) // 10\n",
        "nMaxRows = 10\n",
        "nMaxCols = 6"
      ],
      "metadata": {
        "id": "isI_8aEzPDFm"
      },
      "execution_count": 15,
      "outputs": []
    },
    {
      "cell_type": "markdown",
      "source": [
        "Print `word_freq_our` column."
      ],
      "metadata": {
        "id": "R8cT3YoaIO71"
      }
    },
    {
      "cell_type": "code",
      "source": [
        "print(dataframe['word_freq_our'])"
      ],
      "metadata": {
        "colab": {
          "base_uri": "https://localhost:8080/",
          "height": 0
        },
        "collapsed": true,
        "id": "6X-W8fOoIHZQ",
        "outputId": "0c2f1b29-3c85-4e79-a019-4d9f60786455"
      },
      "execution_count": 16,
      "outputs": [
        {
          "output_type": "stream",
          "name": "stdout",
          "text": [
            "0       0.32\n",
            "1       0.14\n",
            "2       1.23\n",
            "3       0.63\n",
            "4       0.63\n",
            "        ... \n",
            "4596    0.00\n",
            "4597    0.00\n",
            "4598    0.00\n",
            "4599    0.32\n",
            "4600    0.00\n",
            "Name: word_freq_our, Length: 4601, dtype: float64\n"
          ]
        }
      ]
    },
    {
      "cell_type": "markdown",
      "source": [
        "Print the first `nMaxRows` of the `word_freq_you` column where `word_freq_you >= 3`."
      ],
      "metadata": {
        "id": "YcH_LoLBXY0k"
      }
    },
    {
      "cell_type": "code",
      "source": [
        "columnIndex = dataframe.columns.get_loc('word_freq_you')\n",
        "resultSeries = dataframe.word_freq_you >= 3\n",
        "print(dataframe[resultSeries].values[0:nMaxRows, columnIndex:columnIndex+1])"
      ],
      "metadata": {
        "colab": {
          "base_uri": "https://localhost:8080/",
          "height": 0
        },
        "id": "JVOlur8-T5uU",
        "outputId": "4f2a0ff0-0fb4-4d62-fe54-2f6d6e822f76",
        "collapsed": true
      },
      "execution_count": 17,
      "outputs": [
        {
          "output_type": "stream",
          "name": "stdout",
          "text": [
            "[[3.47]\n",
            " [3.18]\n",
            " [3.18]\n",
            " [3.85]\n",
            " [3.84]\n",
            " [3.21]\n",
            " [3.15]\n",
            " [3.33]\n",
            " [3.52]\n",
            " [3.51]]\n"
          ]
        }
      ]
    },
    {
      "cell_type": "markdown",
      "source": [
        "Sort by `word_freq_you` max value and print the first `nMaxRows` rows."
      ],
      "metadata": {
        "id": "tbtgRU41R_dU"
      }
    },
    {
      "cell_type": "code",
      "source": [
        "dataframe_sorted = dataframe.sort_values(by='word_freq_you', ascending=False)\n",
        "array_sorted = dataframe_sorted[\"word_freq_you\"].values\n",
        "\n",
        "print(array_sorted[0:nMaxRows])"
      ],
      "metadata": {
        "colab": {
          "base_uri": "https://localhost:8080/",
          "height": 0
        },
        "id": "LDkMWHugR8zu",
        "outputId": "f7062e03-d8ea-4736-a669-960ffad4e245"
      },
      "execution_count": 18,
      "outputs": [
        {
          "output_type": "stream",
          "name": "stdout",
          "text": [
            "[18.75 14.28 14.28 14.   12.5  12.5  12.19 11.11 10.63  9.72]\n"
          ]
        }
      ]
    },
    {
      "cell_type": "markdown",
      "source": [
        "## Task C\n"
      ],
      "metadata": {
        "id": "jPkrno6yB8uB"
      }
    },
    {
      "cell_type": "code",
      "source": [
        "# without this call, scientific notation is used\n",
        "np.set_printoptions(formatter={'float': '{: 0.3f}'.format},\n",
        "                    suppress=True)\n",
        "\n",
        "print(f\"Showing {nMaxRows} rows\")\n",
        "print(dataframe.values[0:nMaxRows, 0:nMaxCols])"
      ],
      "metadata": {
        "colab": {
          "base_uri": "https://localhost:8080/",
          "height": 0
        },
        "collapsed": true,
        "id": "anidmtOKB4lB",
        "outputId": "0df9839b-3b7b-4e61-a5f7-f4db97ad441e"
      },
      "execution_count": 19,
      "outputs": [
        {
          "output_type": "stream",
          "name": "stdout",
          "text": [
            "Showing 10 rows\n",
            "[[ 0.000  0.640  0.640  0.000  0.320  0.000]\n",
            " [ 0.210  0.280  0.500  0.000  0.140  0.280]\n",
            " [ 0.060  0.000  0.710  0.000  1.230  0.190]\n",
            " [ 0.000  0.000  0.000  0.000  0.630  0.000]\n",
            " [ 0.000  0.000  0.000  0.000  0.630  0.000]\n",
            " [ 0.000  0.000  0.000  0.000  1.850  0.000]\n",
            " [ 0.000  0.000  0.000  0.000  1.920  0.000]\n",
            " [ 0.000  0.000  0.000  0.000  1.880  0.000]\n",
            " [ 0.150  0.000  0.460  0.000  0.610  0.000]\n",
            " [ 0.060  0.120  0.770  0.000  0.190  0.320]]\n"
          ]
        }
      ]
    },
    {
      "cell_type": "markdown",
      "source": [
        "I also discovered the Pandas `option_context()` to set `max_rows` and `max_columns`. But rather printing the first `n` rows, it prints the first few rows and the last few rows. And similar for the columns."
      ],
      "metadata": {
        "id": "y1J1LpHdIdBF"
      }
    },
    {
      "cell_type": "code",
      "source": [
        "with pd.option_context('display.max_rows', nMaxRows, 'display.max_columns', nMaxCols):\n",
        "    print(dataset.data.original)"
      ],
      "metadata": {
        "colab": {
          "base_uri": "https://localhost:8080/",
          "height": 0
        },
        "collapsed": true,
        "id": "qf3BfW-hFDn6",
        "outputId": "493bf4ae-4d35-4ac0-f1ed-26963e221fd9"
      },
      "execution_count": 20,
      "outputs": [
        {
          "output_type": "stream",
          "name": "stdout",
          "text": [
            "      word_freq_make  word_freq_address  word_freq_all  ...  \\\n",
            "0               0.00               0.64           0.64  ...   \n",
            "1               0.21               0.28           0.50  ...   \n",
            "2               0.06               0.00           0.71  ...   \n",
            "3               0.00               0.00           0.00  ...   \n",
            "4               0.00               0.00           0.00  ...   \n",
            "...              ...                ...            ...  ...   \n",
            "4596            0.31               0.00           0.62  ...   \n",
            "4597            0.00               0.00           0.00  ...   \n",
            "4598            0.30               0.00           0.30  ...   \n",
            "4599            0.96               0.00           0.00  ...   \n",
            "4600            0.00               0.00           0.65  ...   \n",
            "\n",
            "      capital_run_length_longest  capital_run_length_total  Class  \n",
            "0                             61                       278      1  \n",
            "1                            101                      1028      1  \n",
            "2                            485                      2259      1  \n",
            "3                             40                       191      1  \n",
            "4                             40                       191      1  \n",
            "...                          ...                       ...    ...  \n",
            "4596                           3                        88      0  \n",
            "4597                           4                        14      0  \n",
            "4598                           6                       118      0  \n",
            "4599                           5                        78      0  \n",
            "4600                           5                        40      0  \n",
            "\n",
            "[4601 rows x 58 columns]\n"
          ]
        }
      ]
    },
    {
      "cell_type": "markdown",
      "source": [
        "# Activity C"
      ],
      "metadata": {
        "id": "AZsCyT39xxaY"
      }
    },
    {
      "cell_type": "markdown",
      "source": [
        "> I've reduced this to a few columns because there are so many.\n",
        "\n"
      ],
      "metadata": {
        "id": "l0Nz4OM5yAR6"
      }
    },
    {
      "cell_type": "markdown",
      "source": [
        "## Task A"
      ],
      "metadata": {
        "id": "ku6ruhFe7bIg"
      }
    },
    {
      "cell_type": "code",
      "source": [
        "columnNames = ['capital_run_length_average',\n",
        "               'capital_run_length_total',\n",
        "               'capital_run_length_longest']\n",
        "\n",
        "\n",
        "for col in columnNames:\n",
        "  repeated = dataframe[col].value_counts().nlargest(5).index.tolist()\n",
        "  print((f'{col}'\n",
        "         f'\\n\\tMean: {dataframe[col].mean()}'\n",
        "         f'\\n\\tStd. Deviation: {dataframe[col].std()}'\n",
        "         f'\\n\\tFive Most Repeated: {repeated}'))\n"
      ],
      "metadata": {
        "colab": {
          "base_uri": "https://localhost:8080/",
          "height": 0
        },
        "id": "0zx0H2Emx15w",
        "outputId": "fb629508-9754-40cf-d3bb-7952a466a7c9"
      },
      "execution_count": 21,
      "outputs": [
        {
          "output_type": "stream",
          "name": "stdout",
          "text": [
            "capital_run_length_average\n",
            "\tMean: 5.191515105411866\n",
            "\tStd. Deviation: 31.729448740210845\n",
            "\tFive Most Repeated: [1.0, 2.0, 1.8, 1.5, 1.666]\n",
            "capital_run_length_total\n",
            "\tMean: 283.28928493805694\n",
            "\tStd. Deviation: 606.3478507248471\n",
            "\tFive Most Repeated: [5, 9, 7, 6, 4]\n",
            "capital_run_length_longest\n",
            "\tMean: 52.17278852423386\n",
            "\tStd. Deviation: 194.89130952646204\n",
            "\tFive Most Repeated: [1, 5, 11, 4, 12]\n"
          ]
        }
      ]
    },
    {
      "cell_type": "markdown",
      "source": [
        "## Task B"
      ],
      "metadata": {
        "id": "G6i0Gf3V7eoU"
      }
    },
    {
      "cell_type": "markdown",
      "source": [
        "Select the columns which represent the frequency of words, i.e. `word_freq_you` is how often \"you\" appears. The word frequency columns are from position 0 to 10th from the end."
      ],
      "metadata": {
        "id": "BQWoNpa7bnCg"
      }
    },
    {
      "cell_type": "code",
      "source": [
        "wordColumns = dataframe.columns[0:-10].tolist();\n",
        "print(wordColumns)"
      ],
      "metadata": {
        "colab": {
          "base_uri": "https://localhost:8080/",
          "height": 0
        },
        "collapsed": true,
        "id": "4fQE27XUYbYF",
        "outputId": "82867a4a-ba39-40cc-f53f-3d084abcce3a"
      },
      "execution_count": 22,
      "outputs": [
        {
          "output_type": "stream",
          "name": "stdout",
          "text": [
            "['word_freq_make', 'word_freq_address', 'word_freq_all', 'word_freq_3d', 'word_freq_our', 'word_freq_over', 'word_freq_remove', 'word_freq_internet', 'word_freq_order', 'word_freq_mail', 'word_freq_receive', 'word_freq_will', 'word_freq_people', 'word_freq_report', 'word_freq_addresses', 'word_freq_free', 'word_freq_business', 'word_freq_email', 'word_freq_you', 'word_freq_credit', 'word_freq_your', 'word_freq_font', 'word_freq_000', 'word_freq_money', 'word_freq_hp', 'word_freq_hpl', 'word_freq_george', 'word_freq_650', 'word_freq_lab', 'word_freq_labs', 'word_freq_telnet', 'word_freq_857', 'word_freq_data', 'word_freq_415', 'word_freq_85', 'word_freq_technology', 'word_freq_1999', 'word_freq_parts', 'word_freq_pm', 'word_freq_direct', 'word_freq_cs', 'word_freq_meeting', 'word_freq_original', 'word_freq_project', 'word_freq_re', 'word_freq_edu', 'word_freq_table', 'word_freq_conference']\n"
          ]
        }
      ]
    },
    {
      "cell_type": "markdown",
      "source": [
        "To show the most common words, we can sum each `word_freq_*` columns:"
      ],
      "metadata": {
        "id": "jCY27R_yoqC3"
      }
    },
    {
      "cell_type": "code",
      "source": [
        "wordFrequencySums = dataframe[wordColumns].apply(np.sum, axis=0)"
      ],
      "metadata": {
        "id": "3XxS3rtupYNe"
      },
      "execution_count": 23,
      "outputs": []
    },
    {
      "cell_type": "markdown",
      "source": [
        "The column names are now the index of the series returned by `apply()`. The names are cumbersome (`word_freq_you`, `word_freq_make`, etc) so snip off the `word_freq_` to leave just the word and update the index before plotting:"
      ],
      "metadata": {
        "id": "MRxbBOaAo-tk"
      }
    },
    {
      "cell_type": "code",
      "source": [
        "indexes = []\n",
        "for name in wordFrequencySums.index:\n",
        "  indexes.append(name[name.rfind('_')+1:])\n",
        "\n",
        "wordFrequencySums.index = indexes\n",
        "plotWords = wordFrequencySums.plot.bar()"
      ],
      "metadata": {
        "colab": {
          "base_uri": "https://localhost:8080/",
          "height": 497
        },
        "collapsed": true,
        "id": "L0gfXMybb_ww",
        "outputId": "2777e540-ce21-452b-936b-074ea761a8e8"
      },
      "execution_count": 28,
      "outputs": [
        {
          "output_type": "display_data",
          "data": {
            "text/plain": [
              "<Figure size 640x480 with 1 Axes>"
            ],
            "image/png": "[encoded data removed]"
          },
          "metadata": {}
        }
      ]
    },
    {
      "cell_type": "markdown",
      "source": [
        "Plot the average length of capital letters in the first 20 emails. The x-axis is each email:"
      ],
      "metadata": {
        "id": "ppmrIaRGTX5w"
      }
    },
    {
      "cell_type": "code",
      "source": [
        "columnName = 'capital_run_length_average'\n",
        "plot = dataframe[columnName][0:20].plot.bar(rot=0, title=columnName)\n",
        "plot.set_ylabel('Occurrences')\n",
        "plot.get_xaxis().set_visible(False)"
      ],
      "metadata": {
        "colab": {
          "base_uri": "https://localhost:8080/",
          "height": 437
        },
        "collapsed": true,
        "id": "12BfGfV57f0d",
        "outputId": "a279094b-2f4b-45ed-ac8d-dd47a12e88a5"
      },
      "execution_count": 27,
      "outputs": [
        {
          "output_type": "display_data",
          "data": {
            "text/plain": [
              "<Figure size 640x480 with 1 Axes>"
            ],
            "image/png": "[encoded data removed]"
          },
          "metadata": {}
        }
      ]
    },
    {
      "cell_type": "markdown",
      "source": [
        "## Task C\n",
        "- This dataset is not ideal for this lab, with so many features and rows\n",
        "- The data is from a study some years ago, within a company (hence the `word_freq_george` column), and seems to use a simplistic set of features for detecting spam emails\n",
        "- Looking at the above bar chart, if we exclude \"george\", it seems \"you\", \"your\" and \"will\" are most commonly used. The next step would be to find a connection between these common words and the email classed as spam"
      ],
      "metadata": {
        "id": "xbL2_C6lwSX8"
      }
    }
  ]
}