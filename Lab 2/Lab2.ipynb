{
  "cells": [
    {
      "cell_type": "markdown",
      "metadata": {
        "id": "O5r-kd_65DJ-"
      },
      "source": [
        "# Activity A"
      ]
    },
    {
      "cell_type": "markdown",
      "metadata": {
        "id": "TLkAFORz5PTq"
      },
      "source": [
        "## 2D Array\n",
        "\n"
      ]
    },
    {
      "cell_type": "code",
      "execution_count": 2,
      "metadata": {
        "colab": {
          "base_uri": "https://localhost:8080/"
        },
        "collapsed": true,
        "id": "wm8eoc3C5aVa",
        "outputId": "6f4f8c08-d6fc-46e9-8d71-89fb14d79a5d"
      },
      "outputs": [
        {
          "name": "stdout",
          "output_type": "stream",
          "text": [
            "Original:\n",
            "[[ 0 21 22  9  4  0]\n",
            " [ 0  4 16  4 13  1]\n",
            " [ 6 15  9 15 19 20]]\n",
            "1:\n",
            "[[ 0 21 22  9  4 15]\n",
            " [ 0  4 16  4 13  1]\n",
            " [ 6 15  9 15 19 20]]\n",
            "2:\n",
            "[[ 0 21 22  9  4 15]\n",
            " [ 4  1  4  2  2  4]\n",
            " [ 6 15  9 15 19 20]]\n",
            "3:\n",
            "[[ 0 21 22  9  4 15]\n",
            " [ 4  1  4  2  2  4]\n",
            " [ 6 15  1  1 19 20]]\n"
          ]
        }
      ],
      "source": [
        "import numpy as np\n",
        "\n",
        "# create 2-D array of 3x6 with max value of 25\n",
        "nCols = 6\n",
        "\n",
        "np.random.seed(105)\n",
        "arr_2d = np.random.randint(25, size=(3, nCols))\n",
        "print(f\"Original:\\n{arr_2d}\")\n",
        "\n",
        "# copy the original array before we update values\n",
        "arr_2d_copy = np.copy(arr_2d)\n",
        "\n",
        "# 1. first row, 6th column\n",
        "arr_2d_copy[0,5] = 15\n",
        "print(f\"1:\\n{arr_2d_copy}\")\n",
        "\n",
        "\n",
        "# 2. replace 2nd row with a new random array (1 row, 6 cols)\n",
        "arr_2d_copy[1] = np.random.randint(5, size=(1, nCols))\n",
        "print(f\"2:\\n{arr_2d_copy}\")\n",
        "\n",
        "\n",
        "# 3. update middle two values of the 3rd using slicing notation.\n",
        "arr_2d_copy[2][2:4] = 1\n",
        "print(f\"3:\\n{arr_2d_copy}\")"
      ]
    },
    {
      "cell_type": "markdown",
      "metadata": {
        "id": "jrhtlDcCD_aw"
      },
      "source": [
        "The numpy developers consider comparing two arrays that have more than one element ambigious:\n",
        "\n",
        "- Are they equal if any elements are the same\n",
        "- Are they equal *only if* all elements the same value\n",
        "\n",
        "So the `logical_and()` is used to perform an logical AND on each element:\n",
        "\n",
        "```\n",
        "arr1[n] && arr2[n]\n",
        "```\n",
        "\n",
        "then call `all()` to confirm all elements are `True`.\n",
        "\n",
        "\n"
      ]
    },
    {
      "cell_type": "code",
      "execution_count": 3,
      "metadata": {
        "colab": {
          "base_uri": "https://localhost:8080/"
        },
        "collapsed": true,
        "id": "Uyw8IFjzBieM",
        "outputId": "58de0ce1-41e1-40e9-c886-4f361c782f17"
      },
      "outputs": [
        {
          "name": "stdout",
          "output_type": "stream",
          "text": [
            "[[ 0 21 22  9  4 15]\n",
            " [ 4  1  4  2  2  4]\n",
            " [ 6 15  9 15 19 20]]\n"
          ]
        }
      ],
      "source": [
        "# 4. as (3) but re-instate original values by copying from the original array\n",
        "arr_2d_copy[2][2:4] = arr_2d[2][2:4]\n",
        "print(f\"{arr_2d_copy}\")\n",
        "assert np.logical_and(arr_2d_copy[2], arr_2d[2]).all(), \"Step 4\""
      ]
    },
    {
      "cell_type": "markdown",
      "metadata": {
        "id": "z40KD94GaGYR"
      },
      "source": [
        "## 3D Array"
      ]
    },
    {
      "cell_type": "markdown",
      "metadata": {
        "id": "zKYyIfS24ocj"
      },
      "source": [
        "Seed the random generator, create a 3x5x5 array and copy the array."
      ]
    },
    {
      "cell_type": "code",
      "execution_count": 4,
      "metadata": {
        "colab": {
          "base_uri": "https://localhost:8080/"
        },
        "collapsed": true,
        "id": "-WGPE-F8aMA6",
        "outputId": "d15afb1a-8669-42ae-f267-3a303e5dbd54"
      },
      "outputs": [
        {
          "name": "stdout",
          "output_type": "stream",
          "text": [
            "Original\n",
            "[[[21 22 24 22  1]\n",
            "  [22 20  8 17 24]\n",
            "  [21  1  0 14 24]\n",
            "  [10 24 10 24 12]\n",
            "  [18 22 24  1 24]]\n",
            "\n",
            " [[ 3 11  5 19  6]\n",
            "  [23  9 16 24 17]\n",
            "  [ 8 13  1 13 12]\n",
            "  [22 22 18  8  4]\n",
            "  [21  3 20  0 10]]\n",
            "\n",
            " [[24 16  4 15  5]\n",
            "  [20 24 19  8  4]\n",
            "  [ 8  0  1  2 13]\n",
            "  [12 19 13  7 23]\n",
            "  [18 15 16 20 14]]]\n"
          ]
        }
      ],
      "source": [
        "np.random.seed(9)\n",
        "\n",
        "arr_3d = np.random.randint(25, size=(3,5,5))\n",
        "print(f\"Original\\n{arr_3d}\")\n",
        "\n",
        "arr_3d_copy = np.copy(arr_3d)"
      ]
    },
    {
      "cell_type": "markdown",
      "metadata": {
        "id": "W2-wUOwz43sh"
      },
      "source": [
        "Manually set values to `66` from top-left to bottom-right"
      ]
    },
    {
      "cell_type": "code",
      "execution_count": 5,
      "metadata": {
        "colab": {
          "base_uri": "https://localhost:8080/"
        },
        "collapsed": true,
        "id": "mKfvqfbQ42iA",
        "outputId": "0bf57c43-2738-419e-d10f-286c025d00a0"
      },
      "outputs": [
        {
          "name": "stdout",
          "output_type": "stream",
          "text": [
            "1.\n",
            "[[[66 22 24 22  1]\n",
            "  [22 66  8 17 24]\n",
            "  [21  1 66 14 24]\n",
            "  [10 24 10 66 12]\n",
            "  [18 22 24  1 66]]\n",
            "\n",
            " [[ 3 11  5 19  6]\n",
            "  [23  9 16 24 17]\n",
            "  [ 8 13  1 13 12]\n",
            "  [22 22 18  8  4]\n",
            "  [21  3 20  0 10]]\n",
            "\n",
            " [[24 16  4 15  5]\n",
            "  [20 24 19  8  4]\n",
            "  [ 8  0  1  2 13]\n",
            "  [12 19 13  7 23]\n",
            "  [18 15 16 20 14]]]\n"
          ]
        }
      ],
      "source": [
        "arr_3d_copy[0][0][0] = 66\n",
        "arr_3d_copy[0][1][1] = 66\n",
        "arr_3d_copy[0][2][2] = 66\n",
        "arr_3d_copy[0][3][3] = 66\n",
        "arr_3d_copy[0][4][4] = 66\n",
        "print(f\"1.\\n{arr_3d_copy}\")"
      ]
    },
    {
      "cell_type": "markdown",
      "metadata": {
        "id": "n9P3adYi5Fp1"
      },
      "source": [
        "Avoid hard coded indices by getting rows and columns from `shape`. This time set the `66` from bottom-left to top-right using a loop.\n",
        "\n",
        "The loop uses `reversed()`, which could be replaced with:\n",
        "\n",
        "```\n",
        "range (nRows-1, -1, -1)\n",
        "```\n",
        "\n",
        "but I find `reversed()` more readable."
      ]
    },
    {
      "cell_type": "code",
      "execution_count": 6,
      "metadata": {
        "colab": {
          "base_uri": "https://localhost:8080/"
        },
        "collapsed": true,
        "id": "GhtV8Fqupwxi",
        "outputId": "36df70e0-a530-4f25-8d76-db9f390b7bdf"
      },
      "outputs": [
        {
          "name": "stdout",
          "output_type": "stream",
          "text": [
            "2.\n",
            "[[[66 22 24 22 66]\n",
            "  [22 66  8 66 24]\n",
            "  [21  1 66 14 24]\n",
            "  [10 66 10 66 12]\n",
            "  [66 22 24  1 66]]\n",
            "\n",
            " [[ 3 11  5 19  6]\n",
            "  [23  9 16 24 17]\n",
            "  [ 8 13  1 13 12]\n",
            "  [22 22 18  8  4]\n",
            "  [21  3 20  0 10]]\n",
            "\n",
            " [[24 16  4 15  5]\n",
            "  [20 24 19  8  4]\n",
            "  [ 8  0  1  2 13]\n",
            "  [12 19 13  7 23]\n",
            "  [18 15 16 20 14]]]\n"
          ]
        }
      ],
      "source": [
        "nRows = arr_3d_copy.shape[1]\n",
        "nCols = arr_3d_copy.shape[2]\n",
        "\n",
        "i = 0\n",
        "for row in reversed(range(0, nRows)):\n",
        "  arr_3d_copy[0][row][i] = 66\n",
        "  i += 1\n",
        "\n",
        "print(f\"2.\\n{arr_3d_copy}\")"
      ]
    },
    {
      "cell_type": "markdown",
      "metadata": {
        "id": "IXtPI-rv7IGa"
      },
      "source": [
        "This time use slicing."
      ]
    },
    {
      "cell_type": "code",
      "execution_count": 7,
      "metadata": {
        "colab": {
          "base_uri": "https://localhost:8080/"
        },
        "collapsed": true,
        "id": "tH6xtCr74cWI",
        "outputId": "52f25fb2-6cf9-48f0-dedd-ebe495a48d15"
      },
      "outputs": [
        {
          "name": "stdout",
          "output_type": "stream",
          "text": [
            "3.\n",
            "[[[66 22 24 22 66]\n",
            "  [22 66  8 66 24]\n",
            "  [21  1 66 14 24]\n",
            "  [10 66 10 66 12]\n",
            "  [66 22 24  1 66]]\n",
            "\n",
            " [[66 11  5 19  6]\n",
            "  [23 66 16 24 17]\n",
            "  [ 8 13 66 13 12]\n",
            "  [22 22 18 66  4]\n",
            "  [21  3 20  0 66]]\n",
            "\n",
            " [[24 16  4 15  5]\n",
            "  [20 24 19  8  4]\n",
            "  [ 8  0  1  2 13]\n",
            "  [12 19 13  7 23]\n",
            "  [18 15 16 20 14]]]\n"
          ]
        }
      ],
      "source": [
        "i = 0\n",
        "for row in range(0, nRows):\n",
        "  arr_3d_copy[1][row, i:i+1] = 66\n",
        "  i += 1\n",
        "\n",
        "print(f\"3.\\n{arr_3d_copy}\")"
      ]
    },
    {
      "cell_type": "markdown",
      "metadata": {
        "id": "V0b6DbUC7WxX"
      },
      "source": [
        "This time do top-left to bottom-right and bottom-left to top-right in same loop."
      ]
    },
    {
      "cell_type": "code",
      "execution_count": 8,
      "metadata": {
        "colab": {
          "base_uri": "https://localhost:8080/"
        },
        "collapsed": true,
        "id": "xhcPf2JJ4hCp",
        "outputId": "563cb653-4401-4d86-f2ee-60b60e2dd2e7"
      },
      "outputs": [
        {
          "name": "stdout",
          "output_type": "stream",
          "text": [
            "4.\n",
            "[[[66 22 24 22 66]\n",
            "  [22 66  8 66 24]\n",
            "  [21  1 66 14 24]\n",
            "  [10 66 10 66 12]\n",
            "  [66 22 24  1 66]]\n",
            "\n",
            " [[66 11  5 19  6]\n",
            "  [23 66 16 24 17]\n",
            "  [ 8 13 66 13 12]\n",
            "  [22 22 18 66  4]\n",
            "  [21  3 20  0 66]]\n",
            "\n",
            " [[66 16  4 15 66]\n",
            "  [20 66 19 66  4]\n",
            "  [ 8  0 66  2 13]\n",
            "  [12 66 13 66 23]\n",
            "  [66 15 16 20 66]]]\n"
          ]
        }
      ],
      "source": [
        "i = 0\n",
        "for row in range(0, nRows):\n",
        "  arr_3d_copy[2][row, i:i+1] = 66\n",
        "  arr_3d_copy[2][nRows-row-1, i:i+1] = 66\n",
        "  i += 1\n",
        "\n",
        "print(f\"4.\\n{arr_3d_copy}\")"
      ]
    },
    {
      "cell_type": "markdown",
      "metadata": {
        "id": "rGYzSTen76hF"
      },
      "source": [
        "# Activity B\n",
        "The [dataset](https://archive.ics.uci.edu/dataset/94/spambase) is \"Spambase\" which classifies emails as spam/not spam based on 57 features.\n",
        "\n",
        "It is available on the UCI Machine Learning Repository."
      ]
    },
    {
      "cell_type": "markdown",
      "metadata": {
        "id": "IT-K0gcgCV-u"
      },
      "source": [
        "## Get Data Set"
      ]
    },
    {
      "cell_type": "markdown",
      "metadata": {
        "id": "V_cNXBB2ClDV"
      },
      "source": [
        "\n",
        "---\n",
        "> I originally used `google.colab.files` package to show an upload prompt, then called Panda's `read_csv()`. But I discovered the `ucimlrepo` package to fetch the dataset directly.\n",
        "---\n",
        "\n",
        "On Google CoLab the package can be installed with:"
      ]
    },
    {
      "cell_type": "code",
      "execution_count": 9,
      "metadata": {
        "colab": {
          "base_uri": "https://localhost:8080/"
        },
        "collapsed": true,
        "id": "yPBVQF2XuHY-",
        "outputId": "a63622de-8058-4771-dd76-cb3a9ee7ae78"
      },
      "outputs": [
        {
          "name": "stdout",
          "output_type": "stream",
          "text": [
            "Defaulting to user installation because normal site-packages is not writeable\n",
            "Requirement already satisfied: ucimlrepo in /home/callum/.local/lib/python3.10/site-packages (0.0.7)\n",
            "Requirement already satisfied: pandas>=1.0.0 in /home/callum/.local/lib/python3.10/site-packages (from ucimlrepo) (2.2.3)\n",
            "Requirement already satisfied: certifi>=2020.12.5 in /home/callum/.local/lib/python3.10/site-packages (from ucimlrepo) (2024.8.30)\n",
            "Requirement already satisfied: python-dateutil>=2.8.2 in /home/callum/.local/lib/python3.10/site-packages (from pandas>=1.0.0->ucimlrepo) (2.9.0.post0)\n",
            "Requirement already satisfied: pytz>=2020.1 in /usr/lib/python3/dist-packages (from pandas>=1.0.0->ucimlrepo) (2022.1)\n",
            "Requirement already satisfied: numpy>=1.22.4 in /home/callum/.local/lib/python3.10/site-packages (from pandas>=1.0.0->ucimlrepo) (2.1.0)\n",
            "Requirement already satisfied: tzdata>=2022.7 in /home/callum/.local/lib/python3.10/site-packages (from pandas>=1.0.0->ucimlrepo) (2024.2)\n",
            "Requirement already satisfied: six>=1.5 in /usr/lib/python3/dist-packages (from python-dateutil>=2.8.2->pandas>=1.0.0->ucimlrepo) (1.16.0)\n",
            "Note: you may need to restart the kernel to use updated packages.\n"
          ]
        }
      ],
      "source": [
        "%pip install ucimlrepo"
      ]
    },
    {
      "cell_type": "markdown",
      "metadata": {
        "id": "RxnqC9fvdpKV"
      },
      "source": [
        "## Use The Dataset"
      ]
    },
    {
      "cell_type": "markdown",
      "metadata": {
        "id": "WkOSie5yQNRr"
      },
      "source": [
        "---\n",
        "> There are 4601 rows and 57 features (columns) in this dataset. To avoid ugly  output when printing 10% rows with 57 columns, I have limited the rows to 10,  rather than 10%, and columns to 6.\n",
        "---"
      ]
    },
    {
      "cell_type": "markdown",
      "metadata": {
        "id": "62FgIVILcn4w"
      },
      "source": [
        "Documentation for the UCI ML package is found [here](https://github.com/uci-ml-repo/ucimlrepo) but the basics are:\n",
        "\n",
        "- Use `fetch_ucirepo()` to download the dataset\n",
        "- This returns a `dotdict` which is similar to a `dict` but it provides access to keys as attributes\n",
        "\n",
        "The important attributes are in the top level `data`:\n",
        "\n",
        "- `original` : Dataframe consisting of all IDs, features and targets (including the NumPy array)\n",
        "- `headers` : List of all variable names/headers"
      ]
    },
    {
      "cell_type": "markdown",
      "metadata": {
        "id": "ybrMlG4_CELE"
      },
      "source": [
        "## Task A"
      ]
    },
    {
      "cell_type": "code",
      "execution_count": 10,
      "metadata": {
        "collapsed": true,
        "id": "JCfH7-vepNEl"
      },
      "outputs": [],
      "source": [
        "import pandas as pd\n",
        "import numpy as np\n",
        "from ucimlrepo import fetch_ucirepo\n",
        "\n",
        "# dataset: a dotdict with original, features, targets, originals amongst others\n",
        "# each of those is a Panda dataframe.\n",
        "# details: https://github.com/uci-ml-repo/ucimlrepo\n",
        "dataset = fetch_ucirepo(id=94)"
      ]
    },
    {
      "cell_type": "markdown",
      "metadata": {
        "id": "85nYbqK4O_Vl"
      },
      "source": [
        "## Task B"
      ]
    },
    {
      "cell_type": "code",
      "execution_count": 11,
      "metadata": {
        "id": "isI_8aEzPDFm"
      },
      "outputs": [],
      "source": [
        "# data frame\n",
        "dataframe = dataset.data.original\n",
        "\n",
        "# for 10% rows: nMaxRows = len(dataframe.values) // 10\n",
        "nMaxRows = 10\n",
        "nMaxCols = 6"
      ]
    },
    {
      "cell_type": "markdown",
      "metadata": {
        "id": "R8cT3YoaIO71"
      },
      "source": [
        "Print `word_freq_our` column."
      ]
    },
    {
      "cell_type": "code",
      "execution_count": 12,
      "metadata": {
        "colab": {
          "base_uri": "https://localhost:8080/"
        },
        "collapsed": true,
        "id": "6X-W8fOoIHZQ",
        "outputId": "f28d9441-fa0a-49f4-8de3-f0e1b28c6129"
      },
      "outputs": [
        {
          "name": "stdout",
          "output_type": "stream",
          "text": [
            "0       0.32\n",
            "1       0.14\n",
            "2       1.23\n",
            "3       0.63\n",
            "4       0.63\n",
            "        ... \n",
            "4596    0.00\n",
            "4597    0.00\n",
            "4598    0.00\n",
            "4599    0.32\n",
            "4600    0.00\n",
            "Name: word_freq_our, Length: 4601, dtype: float64\n"
          ]
        }
      ],
      "source": [
        "print(dataframe['word_freq_our'])"
      ]
    },
    {
      "cell_type": "markdown",
      "metadata": {
        "id": "YcH_LoLBXY0k"
      },
      "source": [
        "Print the first `nMaxRows` of the `word_freq_you` column where `word_freq_you >= 3`."
      ]
    },
    {
      "cell_type": "code",
      "execution_count": 13,
      "metadata": {
        "colab": {
          "base_uri": "https://localhost:8080/"
        },
        "collapsed": true,
        "id": "JVOlur8-T5uU",
        "outputId": "20798d27-92de-4da4-cebc-79f5189b16a2"
      },
      "outputs": [
        {
          "name": "stdout",
          "output_type": "stream",
          "text": [
            "[[3.47]\n",
            " [3.18]\n",
            " [3.18]\n",
            " [3.85]\n",
            " [3.84]\n",
            " [3.21]\n",
            " [3.15]\n",
            " [3.33]\n",
            " [3.52]\n",
            " [3.51]]\n"
          ]
        }
      ],
      "source": [
        "columnIndex = dataframe.columns.get_loc('word_freq_you')\n",
        "resultSeries = dataframe.word_freq_you >= 3\n",
        "print(dataframe[resultSeries].values[0:nMaxRows, columnIndex:columnIndex+1])"
      ]
    },
    {
      "cell_type": "markdown",
      "metadata": {
        "id": "tbtgRU41R_dU"
      },
      "source": [
        "Sort by `word_freq_you` max value and print the first `nMaxRows` rows."
      ]
    },
    {
      "cell_type": "code",
      "execution_count": 14,
      "metadata": {
        "colab": {
          "base_uri": "https://localhost:8080/"
        },
        "id": "LDkMWHugR8zu",
        "outputId": "a893a35f-5763-4425-b694-26547d4a629b"
      },
      "outputs": [
        {
          "name": "stdout",
          "output_type": "stream",
          "text": [
            "[18.75 14.28 14.28 14.   12.5  12.5  12.19 11.11 10.63  9.72]\n"
          ]
        }
      ],
      "source": [
        "dataframe_sorted = dataframe.sort_values(by='word_freq_you', ascending=False)\n",
        "array_sorted = dataframe_sorted[\"word_freq_you\"].values\n",
        "\n",
        "print(array_sorted[0:nMaxRows])"
      ]
    },
    {
      "cell_type": "markdown",
      "metadata": {
        "id": "jPkrno6yB8uB"
      },
      "source": [
        "## Task C\n"
      ]
    },
    {
      "cell_type": "code",
      "execution_count": 15,
      "metadata": {
        "colab": {
          "base_uri": "https://localhost:8080/"
        },
        "collapsed": true,
        "id": "anidmtOKB4lB",
        "outputId": "afa77e6a-4edc-4ae4-ad7d-aaf083e4503b"
      },
      "outputs": [
        {
          "name": "stdout",
          "output_type": "stream",
          "text": [
            "Showing 10 rows\n",
            "[[ 0.000  0.640  0.640  0.000  0.320  0.000]\n",
            " [ 0.210  0.280  0.500  0.000  0.140  0.280]\n",
            " [ 0.060  0.000  0.710  0.000  1.230  0.190]\n",
            " [ 0.000  0.000  0.000  0.000  0.630  0.000]\n",
            " [ 0.000  0.000  0.000  0.000  0.630  0.000]\n",
            " [ 0.000  0.000  0.000  0.000  1.850  0.000]\n",
            " [ 0.000  0.000  0.000  0.000  1.920  0.000]\n",
            " [ 0.000  0.000  0.000  0.000  1.880  0.000]\n",
            " [ 0.150  0.000  0.460  0.000  0.610  0.000]\n",
            " [ 0.060  0.120  0.770  0.000  0.190  0.320]]\n"
          ]
        }
      ],
      "source": [
        "# without this call, scientific notation is used\n",
        "np.set_printoptions(formatter={'float': '{: 0.3f}'.format},\n",
        "                    suppress=True)\n",
        "\n",
        "print(f\"Showing {nMaxRows} rows\")\n",
        "print(dataframe.values[0:nMaxRows, 0:nMaxCols])"
      ]
    },
    {
      "cell_type": "markdown",
      "metadata": {
        "id": "y1J1LpHdIdBF"
      },
      "source": [
        "I also discovered the Pandas `option_context()` to set `max_rows` and `max_columns`. But rather printing the first `n` rows, it prints the first few rows and the last few rows. And similar for the columns."
      ]
    },
    {
      "cell_type": "code",
      "execution_count": 16,
      "metadata": {
        "colab": {
          "base_uri": "https://localhost:8080/"
        },
        "collapsed": true,
        "id": "qf3BfW-hFDn6",
        "outputId": "dc5119e5-e4a2-44f7-9774-9d9f1996bb26"
      },
      "outputs": [
        {
          "name": "stdout",
          "output_type": "stream",
          "text": [
            "      word_freq_make  word_freq_address  word_freq_all  ...  \\\n",
            "0               0.00               0.64           0.64  ...   \n",
            "1               0.21               0.28           0.50  ...   \n",
            "2               0.06               0.00           0.71  ...   \n",
            "3               0.00               0.00           0.00  ...   \n",
            "4               0.00               0.00           0.00  ...   \n",
            "...              ...                ...            ...  ...   \n",
            "4596            0.31               0.00           0.62  ...   \n",
            "4597            0.00               0.00           0.00  ...   \n",
            "4598            0.30               0.00           0.30  ...   \n",
            "4599            0.96               0.00           0.00  ...   \n",
            "4600            0.00               0.00           0.65  ...   \n",
            "\n",
            "      capital_run_length_longest  capital_run_length_total  Class  \n",
            "0                             61                       278      1  \n",
            "1                            101                      1028      1  \n",
            "2                            485                      2259      1  \n",
            "3                             40                       191      1  \n",
            "4                             40                       191      1  \n",
            "...                          ...                       ...    ...  \n",
            "4596                           3                        88      0  \n",
            "4597                           4                        14      0  \n",
            "4598                           6                       118      0  \n",
            "4599                           5                        78      0  \n",
            "4600                           5                        40      0  \n",
            "\n",
            "[4601 rows x 58 columns]\n"
          ]
        }
      ],
      "source": [
        "with pd.option_context('display.max_rows', nMaxRows, 'display.max_columns', nMaxCols):\n",
        "    print(dataset.data.original)"
      ]
    },
    {
      "cell_type": "markdown",
      "metadata": {
        "id": "AZsCyT39xxaY"
      },
      "source": [
        "# Activity C"
      ]
    },
    {
      "cell_type": "markdown",
      "metadata": {
        "id": "l0Nz4OM5yAR6"
      },
      "source": [
        "> I've reduced this to a few columns because there are so many.\n",
        "\n"
      ]
    },
    {
      "cell_type": "code",
      "execution_count": 18,
      "metadata": {
        "colab": {
          "base_uri": "https://localhost:8080/"
        },
        "id": "0zx0H2Emx15w",
        "outputId": "c78a5bf8-5ba3-4045-888b-1d7301f96542"
      },
      "outputs": [
        {
          "name": "stdout",
          "output_type": "stream",
          "text": [
            "capital_run_length_average\n",
            "\tMean: 5.191515105411866\n",
            "\tStd. Deviation: 31.7294487402106\n",
            "\tFive Most Repeated: [1.0, 2.0, 1.8, 1.5, 1.666]\n",
            "capital_run_length_total\n",
            "\tMean: 283.28928493805694\n",
            "\tStd. Deviation: 606.3478507248466\n",
            "\tFive Most Repeated: [5, 9, 7, 6, 4]\n",
            "capital_run_length_longest\n",
            "\tMean: 52.17278852423386\n",
            "\tStd. Deviation: 194.89130952646357\n",
            "\tFive Most Repeated: [1, 5, 11, 4, 12]\n"
          ]
        }
      ],
      "source": [
        "columnNames = ['capital_run_length_average',\n",
        "               'capital_run_length_total',\n",
        "               'capital_run_length_longest']\n",
        "\n",
        "\n",
        "for col in columnNames:\n",
        "  repeated = dataframe[col].value_counts().nlargest(5).index.tolist()\n",
        "  print((f'{col}'\n",
        "         f'\\n\\tMean: {dataframe[col].mean()}'\n",
        "         f'\\n\\tStd. Deviation: {dataframe[col].std() }'\n",
        "         f'\\n\\tFive Most Repeated: {repeated}'))\n"
      ]
    }
  ],
  "metadata": {
    "colab": {
      "collapsed_sections": [
        "O5r-kd_65DJ-",
        "TLkAFORz5PTq",
        "z40KD94GaGYR",
        "IT-K0gcgCV-u",
        "RxnqC9fvdpKV",
        "ybrMlG4_CELE",
        "85nYbqK4O_Vl",
        "jPkrno6yB8uB"
      ],
      "provenance": []
    },
    "kernelspec": {
      "display_name": "Python 3",
      "name": "python3"
    },
    "language_info": {
      "codemirror_mode": {
        "name": "ipython",
        "version": 3
      },
      "file_extension": ".py",
      "mimetype": "text/x-python",
      "name": "python",
      "nbconvert_exporter": "python",
      "pygments_lexer": "ipython3",
      "version": "3.10.12"
    }
  },
  "nbformat": 4,
  "nbformat_minor": 0
}
